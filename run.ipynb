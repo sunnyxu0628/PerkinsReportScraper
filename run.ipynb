{
 "cells": [
  {
   "cell_type": "markdown",
   "id": "463f8c22",
   "metadata": {},
   "source": [
    "# Perkins Core Indicator Report Scraper"
   ]
  },
{
  "cell_type": "markdown",
  "id": "install-packages",
  "metadata": {},
  "source": [
    "## Install Required Packages\n",
    "\n",
    "Before running the notebook, please ensure all required Python packages are installed by running the next cell.\n",
    "\n",
    "If you're using a virtual environment, activate it first. Once installed, proceed to the setup instructions below."
  ]
},
{
  "cell_type": "code",
  "execution_count": null,
  "id": "install-code-cell",
  "metadata": {},
  "outputs": [],
  "source": [
    "%pip install tqdm\n",
    "%pip install selenium\n",
    "%pip install bs4\n",
    "%pip install requests\n",
    "%pip install pandas\n",
    "%pip install openpyxl"
  ]
},
  {
   "cell_type": "markdown",
   "id": "4f887cc3",
   "metadata": {},
   "source": [
    "## 1. Setup Instructions\n",
    "\n",
    "There are two ways to set up your parameters for the scraper:\n",
    "\n",
    "1. **Using config.yml**: If you have already set up your parameters in the config.yml file, just run the next cell.\n",
    "2. **Manual Setup (Recommended for Python Beginner)**: If you haven't set up config.yml, you can define your parameters directly in the third cell below.\n",
    "\n",
    "### Important Parameters:\n",
    "- **Forms**: Types of forms to scrape\n",
    "- **Colleges**: List of colleges to collect data from\n",
    "- **Years**: Fiscal years to analyze\n",
    "\n",
    "### Note:\n",
    "- Make sure all college names match exactly with the website dropdown menu\n",
    "- Years should be in the format 'YYYY-YYYY' (e.g., '2023-2024')"
   ]
  },
  {
   "cell_type": "code",
   "execution_count": null,
   "id": "9092e077",
   "metadata": {},
   "outputs": [],
   "source": [
    "# Option 1: Load parameters from config.yml\n",
    "import yaml\n",
    "import os\n",
    "\n",
    "# Define the project root directory\n",
    "project_root = os.getcwd()\n",
    "\n",
    "try:\n",
    "    with open(os.path.join(project_root, 'config.yml'), 'r') as f:\n",
    "        config = yaml.safe_load(f)\n",
    "    \n",
    "    # Get parameters from config\n",
    "    FORM_TYPE_LS = config['forms']\n",
    "    COLLEGE_LS = config['colleges']\n",
    "    YEAR_LS = config['years']\n",
    "    \n",
    "    print('Successfully loaded parameters from config.yml!')\n",
    "except Exception as e:\n",
    "    print('Could not load config.yml. Please use Option 2 in the next cell to define parameters manually.')\n",
    "\n",
    "data_folder = config['paths']['data_folder']\n",
    "college_fp = config['paths']['college_folder']\n",
    "district_fp = config['paths']['district_folder']\n",
    "top_code_fp = config['paths']['top_code_folder']\n",
    "record_fp = config['paths']['record_csv']\n",
    "\n",
    "# Create directories if they don't exist\n",
    "os.makedirs(college_fp, exist_ok=True)\n",
    "os.makedirs(district_fp, exist_ok=True)\n",
    "os.makedirs(top_code_fp, exist_ok=True)"
   ]
  },
  {
   "cell_type": "code",
   "execution_count": null,
   "id": "72238e19",
   "metadata": {},
   "outputs": [],
   "source": [
    "# Option 2: Define parameters manually if config.yml is not set up\n",
    "# Uncomment and modify these lines if needed:\n",
    "# To uncomment multiple lines at once, select them and press Ctrl + / (Windows/Linux) or Command + / (MacOS)\n",
    "\n",
    "# Edit it to reflect the college you are interested in scraping. ", 
    "# You can find the college you're interested in by selecting it from the 'Select District/College' dropdown on the website.\n",
    "# Note that some colleges may be referenced by names different from their official ones.\n",
    "# COLLEGE_LS = [\n",
    "#     'San Diego City College',\n",
    "#     'San Diego Mesa College',\n",
    "#     'San Diego Miramar College Reg Cntr'\n",
    "# ]\n",
    "\n",
    "# Edit it to reflect the fiscal year you are interested in scraping.\n", 
    "# YEAR_LS = [\n",
    "#     '2025-2026',\n",
    "#     '2024-2025',\n",
    "#     '2023-2024',\n",
    "#     '2022-2023',\n",
    "#     '2021-2022',\n",
    "#     '2020-2021'\n",
    "# ]\n",
    "\n",
    "# Define Your Path\n",
    "# project_root = os.getcwd()\n",
    "# data_folder = os.path.join(project_root, 'Data')\n",
    "# college_folder = os.path.join(data_folder, 'College')\n",
    "# district_folder = os.path.join(data_folder, 'District')\n",
    "# top_code_folder = os.path.join(data_folder, 'Top Code')\n",
    "# record_csv = os.path.join(data_folder, 'scraping_log.csv')\n",
    "\n",
    "# Create directories if they don't exist\n",
    "# os.makedirs(college_fp, exist_ok=True)\n",
    "# os.makedirs(district_fp, exist_ok=True)\n",
    "# os.makedirs(top_code_fp, exist_ok=True)"
   ]
  },
  {
   "cell_type": "markdown",
   "id": "9a028df7",
   "metadata": {},
   "source": [
    "## 2. Run the Scraping Process\n",
    "\n",
    "The scraping process will be executed for each form type defined in the configuration:\n",
    "\n",
    "1. Form 1 Part E-C - College: College-level core indicators\n",
    "2. Form 1 Part E-D - District: District-level indicators (We recommend download manually since it's only one report per district)\n",
    "3. Form 1 Part F by 6 Digit TOP Code: Program-specific indicators\n",
    "\n",
    "Each form will be processed for all specified colleges and years."
   ]
  },
  {
   "cell_type": "code",
   "execution_count": null,
   "id": "eba010f6-03c2-4051-afed-68bdba6563b9",
   "metadata": {},
   "outputs": [],
   "source": [
    "import run"
   ]
  },
  {
   "cell_type": "code",
   "execution_count": null,
   "id": "87126440-fc1b-493a-b5d9-51547b379277",
   "metadata": {},
   "outputs": [],
   "source": [
    "# 1. College Level Core Indicators Report\n",
    "form = 'Form 1 Part E-C - College'\n",
    "\n",
    "print('Scraping {} for the following colleges: {}'.format(form, COLLEGE_LS))\n",
    "print('Scraping {} for the following years: {}'.format(form, YEAR_LS))\n",
    "run.run(\n",
    "    form_type = form,\n",
    "    college_ls = COLLEGE_LS,\n",
    "    year_ls = YEAR_LS\n",
    "       )"
   ]
  },
  {
   "cell_type": "code",
   "execution_count": null,
   "id": "5265e438-8180-45bc-a773-56c7c78fc20e",
   "metadata": {},
   "outputs": [],
   "source": [
    "# 3. College Level Core Indicators Report by 6 Digit TOP Code\n",
    "form = 'Form 1 Part F by 6 Digit TOP Code - College'\n",
    "\n",
    "print('Scraping {} for the following colleges: {}'.format(form, COLLEGE_LS))\n",
    "print('Scraping {} for the following years: {}'.format(form, YEAR_LS))\n",
    "run.run(\n",
    "    form_type = form,\n",
    "    college_ls = COLLEGE_LS,\n",
    "    year_ls = YEAR_LS\n",
    "       )"
   ]
  },
  {
   "cell_type": "markdown",
   "id": "1a610e39",
   "metadata": {},
   "source": [
    "## 3. Verify Data Collection\n",
    "\n",
    "Check the contents of the output directories to ensure all data was collected properly."
   ]
  },
  {
   "cell_type": "code",
   "execution_count": null,
   "id": "f14adb1e",
   "metadata": {},
   "outputs": [],
   "source": [
    "def check_directory_contents(path, indent=0):\n",
    "    if not os.path.exists(path):\n",
    "        print(f'{\" \"*indent}Directory not found: {path}')\n",
    "        return\n",
    "    print(f'{\" \"*indent}Contents of {path}:')\n",
    "    for item in os.listdir(path):\n",
    "        full_path = os.path.join(path, item)\n",
    "        if os.path.isdir(full_path):\n",
    "            print(f'{\" \"*(indent+2)}📁 {item}')\n",
    "        else:\n",
    "            print(f'{\" \"*(indent+2)}📄 {item}')\n",
    "\n",
    "print('Checking College Data:')\n",
    "check_directory_contents(college_fp)\n",
    "print('\\nChecking District Data:')\n",
    "check_directory_contents(district_fp)\n",
    "print('\\nChecking TOP Code Data:')\n",
    "check_directory_contents(top_code_fp)"
   ]
  },
  {
   "cell_type": "markdown",
   "id": "611a76d8",
   "metadata": {},
   "source": [
    "## 4. Scraping Process Complete\n",
    "\n",
    "The data has been collected and saved to the following locations:\n",
    "- College-level indicators: `Data/College/`\n",
    "- District-level indicators: `Data/District/`\n",
    "- TOP Code indicators: `Data/Top Code/`\n",
    "\n",
    "Check the scraping log at `Data/scraping_log.csv` for detailed information about the collected data."
   ]
  }
 ],
 "metadata": {
  "kernelspec": {
   "display_name": "base",
   "language": "python",
   "name": "python3"
  },
  "language_info": {
   "codemirror_mode": {
    "name": "ipython",
    "version": 3
   },
   "file_extension": ".py",
   "mimetype": "text/x-python",
   "name": "python",
   "nbconvert_exporter": "python",
   "pygments_lexer": "ipython3",
   "version": "3.11.7"
  }
 },
 "nbformat": 4,
 "nbformat_minor": 5
}
